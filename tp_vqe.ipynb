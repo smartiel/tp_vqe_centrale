{
 "cells": [
  {
   "cell_type": "markdown",
   "metadata": {},
   "source": [
    "# Variational quantum eigensolver (VQE)\n",
    "\n",
    "**Note: The TP is in english, but feel free to answer questions in french **\n",
    "\n",
    "The purpose of this TP is to introduce a new concept in quantum algorithmics: variational quantum eigensolving (VQE).\n",
    "This class of algorithms tries to tackle the following problem:\n",
    "\n",
    "\n",
    "## Problem\n",
    "\n",
    "**Input**: some Hamiltonian $H$\n",
    "\n",
    "**Output**: the ground energy $E_0$ of $H$ (or at least an approximation of it)\n",
    "\n",
    "\n",
    "You should already be familiar with the Quantum Phase Estimation algorithm (QPE) that partly solves this problem\n",
    "\n",
    "## VQE algorithm\n",
    "\n",
    "The approach taken in a VQE algorithm is less resource demanding than a full QPE and relies on the following structure:\n",
    "\n",
    "- pick a family of quantum states $|\\psi(\\theta)\\rangle$, parametrized by a collection of angles $\\theta = (\\theta_1, ..., \\theta_k)$\n",
    "- use a classical optimizer and a quantum computer to find $\\theta^\\star = arg min_\\theta \\langle \\psi(\\theta) | H | \\psi(\\theta) \\rangle$.\n",
    "- output $\\langle \\psi(\\theta^\\star) | H | \\psi(\\theta^\\star) \\rangle$\n",
    "\n",
    "\n",
    "This type of approach assumes several things:\n",
    "- first, we need an *interesting* family of quantum states $|\\psi(\\theta)\\rangle$. In particular, we are looking for states that:\n",
    "    - can be prepared efficiently. That is, we have a simple quantum circuit $C(\\theta)$ such that $|\\psi(\\theta)\\rangle = C(\\theta)|0\\rangle$ \n",
    "    - can approximate faithfully the ground state of $H$. That is, there exists some $\\theta^*$ such that $|\\psi(\\theta^\\star)\\rangle \\approx |GS\\rangle$\n",
    "\n",
    "- second, we need to be able to efficiently use a quantum computer to evaluate the quantify $\\langle \\psi(\\theta)|H|\\psi(\\theta)\\rangle$. This is usually enforced by having $H = \\sum_i \\alpha_i P_i$ where $P_i$ are Pauli operators and the sum is not too large.\n",
    "\n",
    "## This TP\n",
    "\n",
    "In this TP, we will consider a very standard class of Hamiltonian called Ising Hamiltonians.\n",
    "The motivation being that they can naturally encode many combinatorial optimization problems.\n",
    "\n",
    "We will pick the following convention for our Hamiltonians:\n",
    "\n",
    "$$ H = \\sum_{1 \\leq i < j \\leq n} J_{i, j} \\sigma_z^i \\sigma_z^j $$\n",
    "\n",
    "\n",
    "Notice two things (that might differ from standard definitions):\n",
    "- the sum runs over pairs $(i, j)$ of spins where $i < j$\n",
    "- there is not *magnetic field* term, only coupling terms\n",
    "\n",
    "\n",
    "\n",
    "Let's start with a few questions to get you familiar with what we want to achieve."
   ]
  },
  {
   "cell_type": "markdown",
   "metadata": {},
   "source": [
    "**Question 1:**\n",
    "\n",
    "What can we say about the ground state of such an Hamitonian?\n",
    "\n",
    "Can you devise a simple (yet very costly) classical algorithm we could use to find the ground state and its energy? (no need to implement it yet) "
   ]
  },
  {
   "cell_type": "markdown",
   "metadata": {},
   "source": [
    "**Answer**: \n",
    "\n"
   ]
  },
  {
   "cell_type": "markdown",
   "metadata": {},
   "source": [
    "In the rest of the TP, we will describe $H$ via a python map that maps pairs  $(i, j)$ to their corresponding coefficients $J_{i, j}$.\n",
    "\n",
    "For instance, $H = \\sigma_z^0\\sigma_z^1 + 2 \\sigma_z^1\\sigma_z^2$\n",
    "will be represented by the following map:\n"
   ]
  },
  {
   "cell_type": "code",
   "execution_count": null,
   "metadata": {},
   "outputs": [],
   "source": [
    "H = {(0, 1): 1, (1, 2): 2}\n",
    "\n",
    "import numpy as np\n",
    "\n",
    "Z = np.diag([1, -1])\n",
    "ZZ = np.diag([1, -1, -1, 1])\n",
    "# 00 --> 1\n",
    "# 01 --> -1\n",
    "# 10 --> -1\n",
    "# 11 --> 1"
   ]
  },
  {
   "cell_type": "markdown",
   "metadata": {},
   "source": [
    "**Question 2:**\n",
    "\n",
    "Write a python function that takes such a description of an Ising Hamiltonian and outputs its ground energy.\n",
    "As mentionned in question 1, we do not expect this function to be efficient.\n",
    "\n",
    "The function should pass the three asserts below."
   ]
  },
  {
   "cell_type": "code",
   "execution_count": null,
   "metadata": {},
   "outputs": [],
   "source": [
    "def exact_ground_energy(ham):\n",
    "    \"\"\" TODO \"\"\""
   ]
  },
  {
   "cell_type": "code",
   "execution_count": null,
   "metadata": {},
   "outputs": [],
   "source": [
    "# Testing\n",
    "assert exact_ground_energy({(0, 1): 1, (1, 2): 2}) == -3\n",
    "assert exact_ground_energy(\n",
    "    {(i, i+1): 1 for i in range(10)}\n",
    ") == -10\n",
    "assert exact_ground_energy(\n",
    "    {(0, 1): 1, (1, 2): 1, (0, 2): 1}\n",
    ") == -1"
   ]
  },
  {
   "cell_type": "markdown",
   "metadata": {},
   "source": [
    "## Let's write a VQE\n",
    "\n",
    "We will now use the myqlm library to write a VQE approach to approximate the ground energy $E_0$.\n",
    "\n",
    "### Encoding $H$\n",
    "\n",
    "\n",
    "**Question 3:** Write a python function that take an Hamiltonian described by a python map and return a myqlm `Observable` object. Refer to [this section of the documentation](https://myqlm.github.io/introduction.html#observables).\n"
   ]
  },
  {
   "cell_type": "code",
   "execution_count": null,
   "metadata": {},
   "outputs": [],
   "source": [
    "\n",
    "\n",
    "def to_observable(ham):\n",
    "    \"\"\"TODO\"\"\"\n"
   ]
  },
  {
   "cell_type": "code",
   "execution_count": null,
   "metadata": {},
   "outputs": [],
   "source": [
    "# Tests\n",
    "assert to_observable({(0, 1): 1, (1, 2): 2}).nbqbits == 3\n",
    "assert len(to_observable({(0, 1): 1, (1, 2): 2}).terms) == 2\n",
    "assert to_observable({(i, i+1): 23 for i in range(47)}).nbqbits == 48\n",
    "assert len(to_observable({(i, i+1): 23 for i in range(47)}).terms) == 47"
   ]
  },
  {
   "cell_type": "markdown",
   "metadata": {},
   "source": [
    "### A variational circuit\n",
    "\n",
    "In order to run a VQE, we need a family of parametrized quantum states $|\\psi(\\theta)\\rangle$.\n",
    "\n",
    "As specified in the introduction, we will described these states using a family of quantum circuits $C(\\theta)$ such that $|\\psi(\\theta)\\rangle = C(\\theta) |0\\rangle$.\n",
    "\n",
    "[This section of the documentation](https://myqlm.github.io/running_variational.html#variational-jobs) explains how to construct a parametrized circuit in myqlm.\n",
    "\n",
    "\n",
    "We will start with a first circuit family where circuits are composed of:\n",
    "\n",
    "- a layer of Hadamard gates (one gate per qbit)\n",
    "- alternating layers:\n",
    "    - a layer of RZZ rotations (as defined in [the helper notebook](./tp_vqe_bits.ipynb)) parametrized by $a_i$.\n",
    "      \n",
    "      We will form a simple line of gates (i.e a rotation acting on qbits (i, i+1)).\n",
    "    - a layer of jointly parametrized $R_X$ gates (parameter named $b_i$, one gate per qbit)\n",
    "\n",
    "Hence this family is parametrized by:\n",
    "- the number of qbits (n)\n",
    "- the number of alternating layers (depth)\n",
    "\n",
    "This circuit will not depend on the structure of the Hamiltonian, and will only depends on the number of qbits/spins.\n",
    "\n",
    "**Question 4**: Write a function `first_family` that generates such a parametrized circuit, given a number of qubit and a circuit depth.\n"
   ]
  },
  {
   "cell_type": "code",
   "execution_count": null,
   "metadata": {},
   "outputs": [],
   "source": [
    "from qat.lang.AQASM import *\n",
    "\n",
    "def first_family(nbqbits, depth):\n",
    "    \"\"\"TODO\"\"\""
   ]
  },
  {
   "cell_type": "code",
   "execution_count": null,
   "metadata": {},
   "outputs": [],
   "source": [
    "# Quick test\n",
    "circuit = first_family(3, 1)\n",
    "assert sum(1 for op in circuit.iterate_simple() if op[0] == \"CNOT\") == 4\\\n",
    "    or sum(1 for op in circuit.iterate_simple() if op[0] == \"RZZ\") == 2\n",
    "circuit = first_family(10, 2)\n",
    "assert sum(1 for op in circuit.iterate_simple() if op[0] == \"CNOT\") == 2 * 18\\\n",
    "    or sum(1 for op in circuit.iterate_simple() if op[0] == \"RZZ\") == 2 * 9\n",
    "%qatdisplay circuit  --svg\n",
    "circuit = first_family(5, 1)\n",
    "%qatdisplay circuit  --svg\n",
    "circuit = first_family(5, 2)\n",
    "%qatdisplay circuit  --svg"
   ]
  },
  {
   "cell_type": "markdown",
   "metadata": {},
   "source": [
    "### Running a VQE\n",
    "\n",
    "Now, we have all the tools to run our first VQE.\n",
    "\n",
    "**Question 5:** Use [this section of the documentation](https://myqlm.github.io/running_variational.html#id1), or the helper notebook (last cells), in order to write a function that, given a map representing an Hamiltonian:\n",
    "- finds the set of parameters that minimize the Hamiltonian's energy using our `first_family` circuits\n",
    "- and returns the corresponding energy value\n",
    "We will use the following optimizer parameters:\n",
    "\n",
    "**method**: COBYLA\n",
    "\n",
    "**tol**: 1e-4\n",
    "\n",
    "**options**:{**maxiter**: 300}\n"
   ]
  },
  {
   "cell_type": "code",
   "execution_count": null,
   "metadata": {},
   "outputs": [],
   "source": [
    "\n",
    "def approximate_ground_state(ham, depth):\n",
    "    \"\"\" TODO \"\"\""
   ]
  },
  {
   "cell_type": "code",
   "execution_count": null,
   "metadata": {
    "scrolled": false
   },
   "outputs": [],
   "source": [
    "# Test\n",
    "ham = {(0, 1): 1, (1, 2): 1}\n",
    "\n",
    "print(\"Hamiltonian:\", ham)\n",
    "ground_energy = exact_ground_energy(ham)\n",
    "approximate_ground_energy = approximate_ground_state(ham, 2)\n",
    "print(\"True ground energy:\", ground_energy)\n",
    "print(\"Approximate ground energy:\", approximate_ground_energy)"
   ]
  },
  {
   "cell_type": "markdown",
   "metadata": {},
   "source": [
    "\n",
    "**Question 5:** What can we expect from our approximation when we increase the `depth`  parameter of our circuits?\n",
    "Write a few lines of code to show this behavior on the following Hamiltonian `ham`.\n",
    "\n",
    "*Note:* You might need to incrase the \"maxiter\" parameter for larger depth"
   ]
  },
  {
   "cell_type": "code",
   "execution_count": null,
   "metadata": {},
   "outputs": [],
   "source": [
    "ham = {(i, i+1): 1 for i in range(9)}\n"
   ]
  },
  {
   "cell_type": "markdown",
   "metadata": {},
   "source": [
    "Now, we only tried to solve instances with a particular shape (where the interactions form a line).\n",
    "\n",
    "**Question 6:** Propose a simple instance that does not have this symmetry and comment the performances of our first family of circuits on this instance\n",
    "\n",
    "*hint*: throw in some random interactions, it should break everything"
   ]
  },
  {
   "cell_type": "code",
   "execution_count": null,
   "metadata": {},
   "outputs": [],
   "source": []
  },
  {
   "cell_type": "markdown",
   "metadata": {},
   "source": [
    "## Matching the Hamiltonian's interactions\n",
    "\n",
    "We will now move on to the second family.\n",
    "\n",
    "Circuit in this family will be constructed as follows:\n",
    "- start with a layer of H gates (one per qubit)\n",
    "- alternating layers:\n",
    "    + a layer of RZZ gates (parameter $a_i$), one for each interaction term in the input Hamiltonian\n",
    "    + a layer of RX gates (parameter $b_i$), one per qubit\n",
    "    \n",
    "**Question 7:** Write a function `second_family` that implements this family of circuits, and a function `approximate_ground_state_2` that uses this family.\n",
    "\n",
    "Then run it on the problematic Hamiltonian from the previous question, and comment on the result."
   ]
  },
  {
   "cell_type": "code",
   "execution_count": null,
   "metadata": {},
   "outputs": [],
   "source": [
    "def second_family(ham, depth):\n",
    "    # TODO\n",
    "    pass\n",
    "\n",
    "\n",
    "\n",
    "def approximate_ground_state_2(ham, depth):\n",
    "    # TODO\n",
    "    pass\n"
   ]
  },
  {
   "cell_type": "markdown",
   "metadata": {},
   "source": [
    "Lets break it again!\n",
    "\n",
    "**Question 8:** Propose a new Hamiltonian that will break this new family.\n",
    "\n",
    "**hint**: for now, all our Hamiltonians had uniform interaction strengths\n"
   ]
  },
  {
   "cell_type": "code",
   "execution_count": null,
   "metadata": {},
   "outputs": [],
   "source": []
  },
  {
   "cell_type": "markdown",
   "metadata": {},
   "source": [
    "\n",
    "Finally, we will design our final family of circuits that should be able to work even for these problematic instances.\n",
    "\n",
    "Our third and final family of circuits will have exactly the same gate structure as the second family.\n",
    "\n",
    "**Question 9:** Propose a way to take the interaction strengths into account in the entangling layers of the circuits. Code a function `third_family` that implements this family, and a function `approximate_ground_state_3`.\n",
    "\n",
    "Comment how it performs on our problematic instance from previous question.\n",
    "\n"
   ]
  },
  {
   "cell_type": "code",
   "execution_count": null,
   "metadata": {},
   "outputs": [],
   "source": [
    "def third_family(ham, depth):\n",
    "    # TODO\n",
    "    pass\n",
    "\n",
    "\n",
    "def approximate_ground_state_3(ham, depth):\n",
    "    # TODO\n",
    "    pass\n"
   ]
  },
  {
   "cell_type": "markdown",
   "metadata": {},
   "source": [
    "**Question 10:** Now, lets assume that our Hamiltonian also have local terms:\n",
    "$$ H = \\sum_{i < j} J_{i, j} \\sigma_z^i\\sigma_z^j + \\sum_i h_i \\sigma_z^i $$\n",
    "\n",
    "What modifications would you make to our third family in order to support these new Hamiltonians?\n"
   ]
  },
  {
   "cell_type": "markdown",
   "metadata": {},
   "source": [
    "**Answer**: "
   ]
  },
  {
   "cell_type": "markdown",
   "metadata": {},
   "source": [
    "# Final comment\n",
    "\n",
    "This type of parametrized circuits are very standard in the quantum combinatorial optimization literature.\n",
    "\n",
    "This VQE approach is called Quantum Approximate Optimization Algorithm (**QAOA**). You can find all the details [here](https://arxiv.org/abs/1411.4028).\n",
    "\n",
    "Roughly, these circuits are built by a parametrized Trotterization of the operator:\n",
    "$$ exp(-i \\alpha H + \\beta H_0) $$\n",
    "where \n",
    "$$H_0 = - \\sum \\sigma_x $$\n",
    "\n",
    "Hence, we can describe the circuits as:\n",
    "- preparation of the ground state of $H_0$\n",
    "- alternatively performing $exp(-i a_i H)$ and $exp(-i b_i H_0)$\n",
    "\n",
    "The reason why this approach works comes from another field called **Adiabatic Quantum Computing**."
   ]
  },
  {
   "cell_type": "code",
   "execution_count": null,
   "metadata": {},
   "outputs": [],
   "source": []
  }
 ],
 "metadata": {
  "kernelspec": {
   "display_name": "myqlm2",
   "language": "python",
   "name": "myqlm2"
  },
  "language_info": {
   "codemirror_mode": {
    "name": "ipython",
    "version": 3
   },
   "file_extension": ".py",
   "mimetype": "text/x-python",
   "name": "python",
   "nbconvert_exporter": "python",
   "pygments_lexer": "ipython3",
   "version": "3.6.12"
  }
 },
 "nbformat": 4,
 "nbformat_minor": 4
}
